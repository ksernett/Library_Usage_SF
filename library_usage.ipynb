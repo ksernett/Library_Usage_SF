{
 "cells": [
  {
   "cell_type": "code",
   "execution_count": 1,
   "metadata": {},
   "outputs": [],
   "source": [
    "# Import dependencies\n",
    "import pandas as pd\n",
    "import numpy as np\n",
    "import matplotlib.pyplot as plt\n",
    "import seaborn as sns"
   ]
  },
  {
   "attachments": {},
   "cell_type": "markdown",
   "metadata": {},
   "source": [
    "# Extract the Data"
   ]
  },
  {
   "cell_type": "code",
   "execution_count": 2,
   "metadata": {},
   "outputs": [],
   "source": [
    "# Original dataset and description can be found at the following link\n",
    "# https://www.kaggle.com/datasets/datasf/sf-library-usage-data"
   ]
  },
  {
   "cell_type": "code",
   "execution_count": 3,
   "metadata": {},
   "outputs": [
    {
     "data": {
      "text/html": [
       "<div>\n",
       "<style scoped>\n",
       "    .dataframe tbody tr th:only-of-type {\n",
       "        vertical-align: middle;\n",
       "    }\n",
       "\n",
       "    .dataframe tbody tr th {\n",
       "        vertical-align: top;\n",
       "    }\n",
       "\n",
       "    .dataframe thead th {\n",
       "        text-align: right;\n",
       "    }\n",
       "</style>\n",
       "<table border=\"1\" class=\"dataframe\">\n",
       "  <thead>\n",
       "    <tr style=\"text-align: right;\">\n",
       "      <th></th>\n",
       "      <th>Patron Type Code</th>\n",
       "      <th>Patron Type Definition</th>\n",
       "      <th>Total Checkouts</th>\n",
       "      <th>Total Renewals</th>\n",
       "      <th>Age Range</th>\n",
       "      <th>Home Library Code</th>\n",
       "      <th>Home Library Definition</th>\n",
       "      <th>Circulation Active Month</th>\n",
       "      <th>Circulation Active Year</th>\n",
       "      <th>Notice Preference Code</th>\n",
       "      <th>Notice Preference Definition</th>\n",
       "      <th>Provided Email Address</th>\n",
       "      <th>Year Patron Registered</th>\n",
       "      <th>Outside of County</th>\n",
       "      <th>Supervisor District</th>\n",
       "    </tr>\n",
       "  </thead>\n",
       "  <tbody>\n",
       "    <tr>\n",
       "      <th>0</th>\n",
       "      <td>3</td>\n",
       "      <td>SENIOR</td>\n",
       "      <td>28</td>\n",
       "      <td>13</td>\n",
       "      <td>65 to 74 years</td>\n",
       "      <td>X</td>\n",
       "      <td>Main Library</td>\n",
       "      <td>November</td>\n",
       "      <td>2012</td>\n",
       "      <td>z</td>\n",
       "      <td>email</td>\n",
       "      <td>True</td>\n",
       "      <td>2003</td>\n",
       "      <td>True</td>\n",
       "      <td>NaN</td>\n",
       "    </tr>\n",
       "    <tr>\n",
       "      <th>1</th>\n",
       "      <td>0</td>\n",
       "      <td>ADULT</td>\n",
       "      <td>21</td>\n",
       "      <td>10</td>\n",
       "      <td>55 to 59 years</td>\n",
       "      <td>X</td>\n",
       "      <td>Main Library</td>\n",
       "      <td>October</td>\n",
       "      <td>2015</td>\n",
       "      <td>z</td>\n",
       "      <td>email</td>\n",
       "      <td>True</td>\n",
       "      <td>2003</td>\n",
       "      <td>False</td>\n",
       "      <td>NaN</td>\n",
       "    </tr>\n",
       "    <tr>\n",
       "      <th>2</th>\n",
       "      <td>0</td>\n",
       "      <td>ADULT</td>\n",
       "      <td>275</td>\n",
       "      <td>559</td>\n",
       "      <td>60 to 64 years</td>\n",
       "      <td>X</td>\n",
       "      <td>Main Library</td>\n",
       "      <td>January</td>\n",
       "      <td>2015</td>\n",
       "      <td>z</td>\n",
       "      <td>email</td>\n",
       "      <td>True</td>\n",
       "      <td>2003</td>\n",
       "      <td>True</td>\n",
       "      <td>NaN</td>\n",
       "    </tr>\n",
       "    <tr>\n",
       "      <th>3</th>\n",
       "      <td>0</td>\n",
       "      <td>ADULT</td>\n",
       "      <td>73</td>\n",
       "      <td>38</td>\n",
       "      <td>45 to 54 years</td>\n",
       "      <td>M8</td>\n",
       "      <td>Mission Bay</td>\n",
       "      <td>February</td>\n",
       "      <td>2016</td>\n",
       "      <td>z</td>\n",
       "      <td>email</td>\n",
       "      <td>True</td>\n",
       "      <td>2003</td>\n",
       "      <td>False</td>\n",
       "      <td>NaN</td>\n",
       "    </tr>\n",
       "    <tr>\n",
       "      <th>4</th>\n",
       "      <td>0</td>\n",
       "      <td>ADULT</td>\n",
       "      <td>182</td>\n",
       "      <td>90</td>\n",
       "      <td>45 to 54 years</td>\n",
       "      <td>X</td>\n",
       "      <td>Main Library</td>\n",
       "      <td>July</td>\n",
       "      <td>2016</td>\n",
       "      <td>z</td>\n",
       "      <td>email</td>\n",
       "      <td>True</td>\n",
       "      <td>2003</td>\n",
       "      <td>False</td>\n",
       "      <td>NaN</td>\n",
       "    </tr>\n",
       "  </tbody>\n",
       "</table>\n",
       "</div>"
      ],
      "text/plain": [
       "   Patron Type Code Patron Type Definition  Total Checkouts  Total Renewals  \\\n",
       "0                 3                 SENIOR               28              13   \n",
       "1                 0                  ADULT               21              10   \n",
       "2                 0                  ADULT              275             559   \n",
       "3                 0                  ADULT               73              38   \n",
       "4                 0                  ADULT              182              90   \n",
       "\n",
       "        Age Range Home Library Code Home Library Definition  \\\n",
       "0  65 to 74 years                 X            Main Library   \n",
       "1  55 to 59 years                 X            Main Library   \n",
       "2  60 to 64 years                 X            Main Library   \n",
       "3  45 to 54 years                M8             Mission Bay   \n",
       "4  45 to 54 years                 X            Main Library   \n",
       "\n",
       "  Circulation Active Month Circulation Active Year Notice Preference Code  \\\n",
       "0                 November                    2012                      z   \n",
       "1                  October                    2015                      z   \n",
       "2                  January                    2015                      z   \n",
       "3                 February                    2016                      z   \n",
       "4                     July                    2016                      z   \n",
       "\n",
       "  Notice Preference Definition  Provided Email Address  \\\n",
       "0                        email                    True   \n",
       "1                        email                    True   \n",
       "2                        email                    True   \n",
       "3                        email                    True   \n",
       "4                        email                    True   \n",
       "\n",
       "   Year Patron Registered  Outside of County  Supervisor District  \n",
       "0                    2003               True                  NaN  \n",
       "1                    2003              False                  NaN  \n",
       "2                    2003               True                  NaN  \n",
       "3                    2003              False                  NaN  \n",
       "4                    2003              False                  NaN  "
      ]
     },
     "execution_count": 3,
     "metadata": {},
     "output_type": "execute_result"
    }
   ],
   "source": [
    "# Read the data into a Pandas DataFrame\n",
    "library_df = pd.read_csv('Library_Usage.csv')\n",
    "library_df.head()"
   ]
  },
  {
   "cell_type": "code",
   "execution_count": 4,
   "metadata": {},
   "outputs": [
    {
     "name": "stdout",
     "output_type": "stream",
     "text": [
      "<class 'pandas.core.frame.DataFrame'>\n",
      "RangeIndex: 423448 entries, 0 to 423447\n",
      "Data columns (total 15 columns):\n",
      " #   Column                        Non-Null Count   Dtype  \n",
      "---  ------                        --------------   -----  \n",
      " 0   Patron Type Code              423448 non-null  int64  \n",
      " 1   Patron Type Definition        423448 non-null  object \n",
      " 2   Total Checkouts               423448 non-null  int64  \n",
      " 3   Total Renewals                423448 non-null  int64  \n",
      " 4   Age Range                     423233 non-null  object \n",
      " 5   Home Library Code             423408 non-null  object \n",
      " 6   Home Library Definition       423448 non-null  object \n",
      " 7   Circulation Active Month      423448 non-null  object \n",
      " 8   Circulation Active Year       423448 non-null  object \n",
      " 9   Notice Preference Code        423448 non-null  object \n",
      " 10  Notice Preference Definition  423448 non-null  object \n",
      " 11  Provided Email Address        423448 non-null  bool   \n",
      " 12  Year Patron Registered        423448 non-null  int64  \n",
      " 13  Outside of County             423448 non-null  bool   \n",
      " 14  Supervisor District           313138 non-null  float64\n",
      "dtypes: bool(2), float64(1), int64(4), object(8)\n",
      "memory usage: 42.8+ MB\n"
     ]
    }
   ],
   "source": [
    "# Get a brief summary of the DataFrame\n",
    "library_df.info()"
   ]
  },
  {
   "cell_type": "code",
   "execution_count": 5,
   "metadata": {},
   "outputs": [],
   "source": [
    "# Drop Supervisor District due to unneeded data\n",
    "library_df = library_df.drop(columns='Supervisor District')\n",
    "\n",
    "# Drop null values\n",
    "library_df = library_df.dropna()\n",
    "\n",
    "# Reset index\n",
    "library_df = library_df.reset_index(drop = True)"
   ]
  },
  {
   "cell_type": "code",
   "execution_count": 6,
   "metadata": {},
   "outputs": [
    {
     "name": "stdout",
     "output_type": "stream",
     "text": [
      "<class 'pandas.core.frame.DataFrame'>\n",
      "RangeIndex: 423193 entries, 0 to 423192\n",
      "Data columns (total 14 columns):\n",
      " #   Column                        Non-Null Count   Dtype \n",
      "---  ------                        --------------   ----- \n",
      " 0   Patron Type Code              423193 non-null  int64 \n",
      " 1   Patron Type Definition        423193 non-null  object\n",
      " 2   Total Checkouts               423193 non-null  int64 \n",
      " 3   Total Renewals                423193 non-null  int64 \n",
      " 4   Age Range                     423193 non-null  object\n",
      " 5   Home Library Code             423193 non-null  object\n",
      " 6   Home Library Definition       423193 non-null  object\n",
      " 7   Circulation Active Month      423193 non-null  object\n",
      " 8   Circulation Active Year       423193 non-null  object\n",
      " 9   Notice Preference Code        423193 non-null  object\n",
      " 10  Notice Preference Definition  423193 non-null  object\n",
      " 11  Provided Email Address        423193 non-null  bool  \n",
      " 12  Year Patron Registered        423193 non-null  int64 \n",
      " 13  Outside of County             423193 non-null  bool  \n",
      "dtypes: bool(2), int64(4), object(8)\n",
      "memory usage: 39.6+ MB\n"
     ]
    }
   ],
   "source": [
    "library_df.info()"
   ]
  },
  {
   "cell_type": "code",
   "execution_count": 7,
   "metadata": {},
   "outputs": [
    {
     "data": {
      "text/html": [
       "<div>\n",
       "<style scoped>\n",
       "    .dataframe tbody tr th:only-of-type {\n",
       "        vertical-align: middle;\n",
       "    }\n",
       "\n",
       "    .dataframe tbody tr th {\n",
       "        vertical-align: top;\n",
       "    }\n",
       "\n",
       "    .dataframe thead th {\n",
       "        text-align: right;\n",
       "    }\n",
       "</style>\n",
       "<table border=\"1\" class=\"dataframe\">\n",
       "  <thead>\n",
       "    <tr style=\"text-align: right;\">\n",
       "      <th></th>\n",
       "      <th>Patron Type Code</th>\n",
       "      <th>Patron Type Definition</th>\n",
       "      <th>Total Checkouts</th>\n",
       "      <th>Total Renewals</th>\n",
       "      <th>Age Range</th>\n",
       "      <th>Home Library Code</th>\n",
       "      <th>Home Library Definition</th>\n",
       "      <th>Circulation Active Month</th>\n",
       "      <th>Circulation Active Year</th>\n",
       "      <th>Notice Preference Code</th>\n",
       "      <th>Notice Preference Definition</th>\n",
       "      <th>Provided Email Address</th>\n",
       "      <th>Year Patron Registered</th>\n",
       "      <th>Outside of County</th>\n",
       "    </tr>\n",
       "  </thead>\n",
       "  <tbody>\n",
       "    <tr>\n",
       "      <th>0</th>\n",
       "      <td>3</td>\n",
       "      <td>SENIOR</td>\n",
       "      <td>28</td>\n",
       "      <td>13</td>\n",
       "      <td>65 to 74 years</td>\n",
       "      <td>X</td>\n",
       "      <td>Main Library</td>\n",
       "      <td>November</td>\n",
       "      <td>2012</td>\n",
       "      <td>z</td>\n",
       "      <td>email</td>\n",
       "      <td>True</td>\n",
       "      <td>2003</td>\n",
       "      <td>True</td>\n",
       "    </tr>\n",
       "    <tr>\n",
       "      <th>1</th>\n",
       "      <td>0</td>\n",
       "      <td>ADULT</td>\n",
       "      <td>21</td>\n",
       "      <td>10</td>\n",
       "      <td>55 to 59 years</td>\n",
       "      <td>X</td>\n",
       "      <td>Main Library</td>\n",
       "      <td>October</td>\n",
       "      <td>2015</td>\n",
       "      <td>z</td>\n",
       "      <td>email</td>\n",
       "      <td>True</td>\n",
       "      <td>2003</td>\n",
       "      <td>False</td>\n",
       "    </tr>\n",
       "    <tr>\n",
       "      <th>2</th>\n",
       "      <td>0</td>\n",
       "      <td>ADULT</td>\n",
       "      <td>275</td>\n",
       "      <td>559</td>\n",
       "      <td>60 to 64 years</td>\n",
       "      <td>X</td>\n",
       "      <td>Main Library</td>\n",
       "      <td>January</td>\n",
       "      <td>2015</td>\n",
       "      <td>z</td>\n",
       "      <td>email</td>\n",
       "      <td>True</td>\n",
       "      <td>2003</td>\n",
       "      <td>True</td>\n",
       "    </tr>\n",
       "    <tr>\n",
       "      <th>3</th>\n",
       "      <td>0</td>\n",
       "      <td>ADULT</td>\n",
       "      <td>73</td>\n",
       "      <td>38</td>\n",
       "      <td>45 to 54 years</td>\n",
       "      <td>M8</td>\n",
       "      <td>Mission Bay</td>\n",
       "      <td>February</td>\n",
       "      <td>2016</td>\n",
       "      <td>z</td>\n",
       "      <td>email</td>\n",
       "      <td>True</td>\n",
       "      <td>2003</td>\n",
       "      <td>False</td>\n",
       "    </tr>\n",
       "    <tr>\n",
       "      <th>4</th>\n",
       "      <td>0</td>\n",
       "      <td>ADULT</td>\n",
       "      <td>182</td>\n",
       "      <td>90</td>\n",
       "      <td>45 to 54 years</td>\n",
       "      <td>X</td>\n",
       "      <td>Main Library</td>\n",
       "      <td>July</td>\n",
       "      <td>2016</td>\n",
       "      <td>z</td>\n",
       "      <td>email</td>\n",
       "      <td>True</td>\n",
       "      <td>2003</td>\n",
       "      <td>False</td>\n",
       "    </tr>\n",
       "  </tbody>\n",
       "</table>\n",
       "</div>"
      ],
      "text/plain": [
       "   Patron Type Code Patron Type Definition  Total Checkouts  Total Renewals  \\\n",
       "0                 3                 SENIOR               28              13   \n",
       "1                 0                  ADULT               21              10   \n",
       "2                 0                  ADULT              275             559   \n",
       "3                 0                  ADULT               73              38   \n",
       "4                 0                  ADULT              182              90   \n",
       "\n",
       "        Age Range Home Library Code Home Library Definition  \\\n",
       "0  65 to 74 years                 X            Main Library   \n",
       "1  55 to 59 years                 X            Main Library   \n",
       "2  60 to 64 years                 X            Main Library   \n",
       "3  45 to 54 years                M8             Mission Bay   \n",
       "4  45 to 54 years                 X            Main Library   \n",
       "\n",
       "  Circulation Active Month Circulation Active Year Notice Preference Code  \\\n",
       "0                 November                    2012                      z   \n",
       "1                  October                    2015                      z   \n",
       "2                  January                    2015                      z   \n",
       "3                 February                    2016                      z   \n",
       "4                     July                    2016                      z   \n",
       "\n",
       "  Notice Preference Definition  Provided Email Address  \\\n",
       "0                        email                    True   \n",
       "1                        email                    True   \n",
       "2                        email                    True   \n",
       "3                        email                    True   \n",
       "4                        email                    True   \n",
       "\n",
       "   Year Patron Registered  Outside of County  \n",
       "0                    2003               True  \n",
       "1                    2003              False  \n",
       "2                    2003               True  \n",
       "3                    2003              False  \n",
       "4                    2003              False  "
      ]
     },
     "execution_count": 7,
     "metadata": {},
     "output_type": "execute_result"
    }
   ],
   "source": [
    "library_df.head()"
   ]
  },
  {
   "attachments": {},
   "cell_type": "markdown",
   "metadata": {},
   "source": [
    "# Reviewing/Cleaning Data\n",
    "\n",
    "Review unique values in the dataset to identify possible errors"
   ]
  },
  {
   "cell_type": "code",
   "execution_count": 8,
   "metadata": {},
   "outputs": [
    {
     "data": {
      "text/plain": [
       "Patron Type Code                  18\n",
       "Patron Type Definition            18\n",
       "Total Checkouts                 4274\n",
       "Total Renewals                  2738\n",
       "Age Range                         10\n",
       "Home Library Code                 79\n",
       "Home Library Definition           35\n",
       "Circulation Active Month          13\n",
       "Circulation Active Year           15\n",
       "Notice Preference Code             4\n",
       "Notice Preference Definition       4\n",
       "Provided Email Address             2\n",
       "Year Patron Registered            14\n",
       "Outside of County                  2\n",
       "dtype: int64"
      ]
     },
     "execution_count": 8,
     "metadata": {},
     "output_type": "execute_result"
    }
   ],
   "source": [
    "# Identify the number of unique values in each column\n",
    "library_df.nunique()"
   ]
  },
  {
   "attachments": {},
   "cell_type": "markdown",
   "metadata": {},
   "source": [
    "- Patron Type Code and Definition number of unique values match\n",
    "- Notice Preference Code and Definition number of unique values match\n",
    "- Home Library Code and Definition number of unique values __DO NOT__ match"
   ]
  },
  {
   "cell_type": "code",
   "execution_count": 9,
   "metadata": {},
   "outputs": [
    {
     "name": "stdout",
     "output_type": "stream",
     "text": [
      "Main Library\n",
      "['X']\n",
      "Mission Bay\n",
      "['M8']\n",
      "Potrero\n",
      "['P7']\n",
      "Sunset\n",
      "['S7']\n",
      "Merced\n",
      "['M4']\n",
      "Noe Valley/Sally Brunn\n",
      "['N4']\n",
      "Excelsior\n",
      "['E9']\n",
      "Chinatown\n",
      "['C2']\n",
      "Richmond\n",
      "['R3']\n",
      "North Beach\n",
      "['N6']\n",
      "Presidio\n",
      "['P9']\n",
      "Mission\n",
      "['M6']\n",
      "Park\n",
      "['P1']\n",
      "Marina\n",
      "['M2']\n",
      "Parkside\n",
      "['P3']\n",
      "Eureka Valley/Harvey Milk Memorial\n",
      "['E7']\n",
      "Anza\n",
      "['A5']\n",
      "West Portal\n",
      "['W2']\n",
      "Ingleside\n",
      "['I5']\n",
      "Bernal Heights\n",
      "['B4']\n",
      "Portola\n",
      "['P5']\n",
      "Ortega\n",
      "['O7']\n",
      "Western Addition\n",
      "['W4']\n",
      "Unknown\n",
      "['YB' 'G4AAA' 'YB9' 'R3J' 'XFFL' 'S7J' 'B4AAA' 'YB7' 'YB8' 'B2AAA' 'O2AAA'\n",
      " 'XFSAA' 'M8AAA' 'N6AAA' 'C2J' 'NONE' 'M6AAA' 'YJJAA' 'E9AAA' 'P1AAA'\n",
      " 'YB6' 'W2AAA' 'B2AZZ' 'M4AAA' 'P3AAA' 'N4AAA' 'I7' 'P7J' 'M2AAA' 'YLWAA'\n",
      " 'O7AAA' 'S7AAA' 'YBJ' 'M6ABU' 'P7AAA' 'R3AAA' 'YB5' 'P1J' 'YB10' 'M8J'\n",
      " 'N6J' 'AQUIS' 'E7J' 'W2J' 'O7J']\n",
      "Ocean View\n",
      "['O2']\n",
      "Glen Park\n",
      "['G4']\n",
      "Visitacion Valley\n",
      "['V3']\n",
      "Bayview/Linda Brooks-Burton\n",
      "['B2']\n",
      "Golden Gate Valley\n",
      "['G6']\n",
      "Library on Wheels\n",
      "['YLW']\n",
      "Children's Bookmobile\n",
      "['YJJ']\n",
      "Branch Bookmobile (Sunset)\n",
      "['YB4']\n",
      "Branch Bookmobile (West Portal)\n",
      "['YB2']\n",
      "Branch Bookmobile (Excelsior)\n",
      "['YB1']\n",
      "Branch Bookmobile (Marina)\n",
      "['YB3']\n"
     ]
    }
   ],
   "source": [
    "# Determine reason for difference in unique count of library home code/definition\n",
    "\n",
    "# Create a list of the names of the librarys\n",
    "libs = list(library_df['Home Library Definition'].unique())\n",
    "\n",
    "# Use a for loop to print the name of the library and the codes associated with it\n",
    "for lib in libs:\n",
    "    j = library_df.loc[library_df['Home Library Definition'] == lib]\n",
    "    print(lib)\n",
    "    print(j['Home Library Code'].unique())"
   ]
  },
  {
   "attachments": {},
   "cell_type": "markdown",
   "metadata": {},
   "source": [
    "- The reason for the discrepency in the counts of the library code vs. description is due to __Unknown__ having 45 unique codes associated with it\n",
    "- Unknown: \n",
    "['YB' 'G4AAA' 'YB9' 'R3J' 'XFFL' 'S7J' 'B4AAA' 'YB7' 'YB8' 'B2AAA' 'O2AAA'\n",
    " 'XFSAA' 'M8AAA' 'N6AAA' 'C2J' 'NONE' 'M6AAA' 'YJJAA' 'E9AAA' 'P1AAA'\n",
    " 'YB6' 'W2AAA' 'B2AZZ' 'M4AAA' 'P3AAA' 'N4AAA' 'I7' 'P7J' 'M2AAA' 'YLWAA'\n",
    " 'O7AAA' 'S7AAA' 'YBJ' 'M6ABU' 'P7AAA' 'R3AAA' 'YB5' 'P1J' 'YB10' 'M8J'\n",
    " 'N6J' 'AQUIS' 'E7J' 'W2J' 'O7J']\n",
    "\n",
    "- All other library descriptions are associated with only one code"
   ]
  },
  {
   "cell_type": "code",
   "execution_count": 10,
   "metadata": {},
   "outputs": [
    {
     "name": "stdout",
     "output_type": "stream",
     "text": [
      "The unique Circulation Active Month values are: ['November' 'October' 'January' 'February' 'July' 'December' 'September'\n",
      " 'May' 'August' 'March' 'June' 'April' 'None']\n",
      "The unique Circulation Active Year values are: ['2012' '2015' '2016' '2004' '2014' '2005' '2006' '2007' '2013' '2010'\n",
      " '2011' '2008' 'None' '2009' '2003']\n"
     ]
    }
   ],
   "source": [
    "# Review circulation active month/year to determine why there are 13 months\n",
    "\n",
    "month = library_df['Circulation Active Month'].unique()\n",
    "print(f'The unique Circulation Active Month values are: {month}')\n",
    "\n",
    "year = library_df['Circulation Active Year'].unique()\n",
    "print(f'The unique Circulation Active Year values are: {year}')"
   ]
  },
  {
   "cell_type": "code",
   "execution_count": 11,
   "metadata": {},
   "outputs": [
    {
     "data": {
      "text/plain": [
       "2003    69239\n",
       "2015    53885\n",
       "2014    51842\n",
       "2013    48205\n",
       "2012    37393\n",
       "2011    26529\n",
       "2016    26254\n",
       "2010    24318\n",
       "2009    22307\n",
       "2008    20511\n",
       "2007    13276\n",
       "2006    10775\n",
       "2005     9666\n",
       "2004     8993\n",
       "Name: Year Patron Registered, dtype: int64"
      ]
     },
     "execution_count": 11,
     "metadata": {},
     "output_type": "execute_result"
    }
   ],
   "source": [
    "# It should be noted that the library electronic system integration was completed in 2003\n",
    "# Therefore the counts from that year may be incorrect due to the need to move all patrons into the system\n",
    "library_df['Year Patron Registered'].value_counts()"
   ]
  },
  {
   "cell_type": "code",
   "execution_count": 12,
   "metadata": {},
   "outputs": [
    {
     "data": {
      "text/plain": [
       "array(['65 to 74 years', '55 to 59 years', '60 to 64 years',\n",
       "       '45 to 54 years', '35 to 44 years', '25 to 34 years',\n",
       "       '20 to 24 years', '75 years and over', '0 to 9 years',\n",
       "       '10 to 19 years'], dtype=object)"
      ]
     },
     "execution_count": 12,
     "metadata": {},
     "output_type": "execute_result"
    }
   ],
   "source": [
    "# Identify the given age ranges for future analysis\n",
    "library_df['Age Range'].unique()"
   ]
  },
  {
   "cell_type": "code",
   "execution_count": 13,
   "metadata": {},
   "outputs": [
    {
     "data": {
      "text/html": [
       "<div>\n",
       "<style scoped>\n",
       "    .dataframe tbody tr th:only-of-type {\n",
       "        vertical-align: middle;\n",
       "    }\n",
       "\n",
       "    .dataframe tbody tr th {\n",
       "        vertical-align: top;\n",
       "    }\n",
       "\n",
       "    .dataframe thead th {\n",
       "        text-align: right;\n",
       "    }\n",
       "</style>\n",
       "<table border=\"1\" class=\"dataframe\">\n",
       "  <thead>\n",
       "    <tr style=\"text-align: right;\">\n",
       "      <th></th>\n",
       "      <th>Patron Type Code</th>\n",
       "      <th>Patron Type Definition</th>\n",
       "      <th>Total Checkouts</th>\n",
       "      <th>Total Renewals</th>\n",
       "      <th>Age Range</th>\n",
       "      <th>Home Library Code</th>\n",
       "      <th>Home Library Definition</th>\n",
       "      <th>Circulation Active Month</th>\n",
       "      <th>Circulation Active Year</th>\n",
       "      <th>Notice Preference Code</th>\n",
       "      <th>Notice Preference Definition</th>\n",
       "      <th>Provided Email Address</th>\n",
       "      <th>Year Patron Registered</th>\n",
       "      <th>Outside of County</th>\n",
       "    </tr>\n",
       "  </thead>\n",
       "  <tbody>\n",
       "    <tr>\n",
       "      <th>0</th>\n",
       "      <td>3</td>\n",
       "      <td>SENIOR</td>\n",
       "      <td>28</td>\n",
       "      <td>13</td>\n",
       "      <td>65 to 74 years</td>\n",
       "      <td>X</td>\n",
       "      <td>Main Library</td>\n",
       "      <td>November</td>\n",
       "      <td>2012</td>\n",
       "      <td>z</td>\n",
       "      <td>email</td>\n",
       "      <td>True</td>\n",
       "      <td>2003</td>\n",
       "      <td>True</td>\n",
       "    </tr>\n",
       "    <tr>\n",
       "      <th>1</th>\n",
       "      <td>0</td>\n",
       "      <td>ADULT</td>\n",
       "      <td>21</td>\n",
       "      <td>10</td>\n",
       "      <td>55 to 59 years</td>\n",
       "      <td>X</td>\n",
       "      <td>Main Library</td>\n",
       "      <td>October</td>\n",
       "      <td>2015</td>\n",
       "      <td>z</td>\n",
       "      <td>email</td>\n",
       "      <td>True</td>\n",
       "      <td>2003</td>\n",
       "      <td>False</td>\n",
       "    </tr>\n",
       "    <tr>\n",
       "      <th>2</th>\n",
       "      <td>0</td>\n",
       "      <td>ADULT</td>\n",
       "      <td>275</td>\n",
       "      <td>559</td>\n",
       "      <td>60 to 64 years</td>\n",
       "      <td>X</td>\n",
       "      <td>Main Library</td>\n",
       "      <td>January</td>\n",
       "      <td>2015</td>\n",
       "      <td>z</td>\n",
       "      <td>email</td>\n",
       "      <td>True</td>\n",
       "      <td>2003</td>\n",
       "      <td>True</td>\n",
       "    </tr>\n",
       "    <tr>\n",
       "      <th>3</th>\n",
       "      <td>0</td>\n",
       "      <td>ADULT</td>\n",
       "      <td>73</td>\n",
       "      <td>38</td>\n",
       "      <td>45 to 54 years</td>\n",
       "      <td>M8</td>\n",
       "      <td>Mission Bay</td>\n",
       "      <td>February</td>\n",
       "      <td>2016</td>\n",
       "      <td>z</td>\n",
       "      <td>email</td>\n",
       "      <td>True</td>\n",
       "      <td>2003</td>\n",
       "      <td>False</td>\n",
       "    </tr>\n",
       "    <tr>\n",
       "      <th>4</th>\n",
       "      <td>0</td>\n",
       "      <td>ADULT</td>\n",
       "      <td>182</td>\n",
       "      <td>90</td>\n",
       "      <td>45 to 54 years</td>\n",
       "      <td>X</td>\n",
       "      <td>Main Library</td>\n",
       "      <td>July</td>\n",
       "      <td>2016</td>\n",
       "      <td>z</td>\n",
       "      <td>email</td>\n",
       "      <td>True</td>\n",
       "      <td>2003</td>\n",
       "      <td>False</td>\n",
       "    </tr>\n",
       "  </tbody>\n",
       "</table>\n",
       "</div>"
      ],
      "text/plain": [
       "   Patron Type Code Patron Type Definition  Total Checkouts  Total Renewals  \\\n",
       "0                 3                 SENIOR               28              13   \n",
       "1                 0                  ADULT               21              10   \n",
       "2                 0                  ADULT              275             559   \n",
       "3                 0                  ADULT               73              38   \n",
       "4                 0                  ADULT              182              90   \n",
       "\n",
       "        Age Range Home Library Code Home Library Definition  \\\n",
       "0  65 to 74 years                 X            Main Library   \n",
       "1  55 to 59 years                 X            Main Library   \n",
       "2  60 to 64 years                 X            Main Library   \n",
       "3  45 to 54 years                M8             Mission Bay   \n",
       "4  45 to 54 years                 X            Main Library   \n",
       "\n",
       "  Circulation Active Month Circulation Active Year Notice Preference Code  \\\n",
       "0                 November                    2012                      z   \n",
       "1                  October                    2015                      z   \n",
       "2                  January                    2015                      z   \n",
       "3                 February                    2016                      z   \n",
       "4                     July                    2016                      z   \n",
       "\n",
       "  Notice Preference Definition  Provided Email Address  \\\n",
       "0                        email                    True   \n",
       "1                        email                    True   \n",
       "2                        email                    True   \n",
       "3                        email                    True   \n",
       "4                        email                    True   \n",
       "\n",
       "   Year Patron Registered  Outside of County  \n",
       "0                    2003               True  \n",
       "1                    2003              False  \n",
       "2                    2003               True  \n",
       "3                    2003              False  \n",
       "4                    2003              False  "
      ]
     },
     "execution_count": 13,
     "metadata": {},
     "output_type": "execute_result"
    }
   ],
   "source": [
    "library_df.head()"
   ]
  },
  {
   "cell_type": "code",
   "execution_count": 14,
   "metadata": {},
   "outputs": [
    {
     "name": "stdout",
     "output_type": "stream",
     "text": [
      "<class 'pandas.core.frame.DataFrame'>\n",
      "RangeIndex: 423193 entries, 0 to 423192\n",
      "Data columns (total 14 columns):\n",
      " #   Column                        Non-Null Count   Dtype \n",
      "---  ------                        --------------   ----- \n",
      " 0   Patron Type Code              423193 non-null  int64 \n",
      " 1   Patron Type Definition        423193 non-null  object\n",
      " 2   Total Checkouts               423193 non-null  int64 \n",
      " 3   Total Renewals                423193 non-null  int64 \n",
      " 4   Age Range                     423193 non-null  object\n",
      " 5   Home Library Code             423193 non-null  object\n",
      " 6   Home Library Definition       423193 non-null  object\n",
      " 7   Circulation Active Month      423193 non-null  object\n",
      " 8   Circulation Active Year       423193 non-null  object\n",
      " 9   Notice Preference Code        423193 non-null  object\n",
      " 10  Notice Preference Definition  423193 non-null  object\n",
      " 11  Provided Email Address        423193 non-null  bool  \n",
      " 12  Year Patron Registered        423193 non-null  int64 \n",
      " 13  Outside of County             423193 non-null  bool  \n",
      "dtypes: bool(2), int64(4), object(8)\n",
      "memory usage: 39.6+ MB\n"
     ]
    }
   ],
   "source": [
    "library_df.info()"
   ]
  },
  {
   "attachments": {},
   "cell_type": "markdown",
   "metadata": {},
   "source": [
    "# Visualization of the Data"
   ]
  },
  {
   "attachments": {},
   "cell_type": "markdown",
   "metadata": {},
   "source": [
    "### Data Breakdown by Age Range"
   ]
  },
  {
   "cell_type": "code",
   "execution_count": 15,
   "metadata": {},
   "outputs": [
    {
     "data": {
      "text/plain": [
       "423193"
      ]
     },
     "execution_count": 15,
     "metadata": {},
     "output_type": "execute_result"
    }
   ],
   "source": [
    "# total number of library patrons\n",
    "library_df['Age Range'].count()\n"
   ]
  },
  {
   "attachments": {},
   "cell_type": "markdown",
   "metadata": {},
   "source": [
    "#### Number of Patrons Per Age Range"
   ]
  },
  {
   "cell_type": "code",
   "execution_count": 16,
   "metadata": {},
   "outputs": [
    {
     "name": "stdout",
     "output_type": "stream",
     "text": [
      "In the 0 to 9 years age range there are 38242 library patrons.\n",
      "In the 10 to 19 years age range there are 58935 library patrons.\n",
      "In the 20 to 24 years age range there are 29751 library patrons.\n",
      "In the 25 to 34 years age range there are 91074 library patrons.\n",
      "In the 35 to 44 years age range there are 67389 library patrons.\n",
      "In the 45 to 54 years age range there are 52487 library patrons.\n",
      "In the 55 to 59 years age range there are 21229 library patrons.\n",
      "In the 60 to 64 years age range there are 19798 library patrons.\n",
      "In the 65 to 74 years age range there are 30138 library patrons.\n",
      "In the 75 years and over age range there are 14150 library patrons.\n"
     ]
    },
    {
     "data": {
      "text/plain": [
       "Text(0.5, 1.0, 'Number of Library Patrons per Age Range Group')"
      ]
     },
     "execution_count": 16,
     "metadata": {},
     "output_type": "execute_result"
    },
    {
     "data": {
      "image/png": "[encoded data removed]",
      "text/plain": [
       "<Figure size 1440x648 with 1 Axes>"
      ]
     },
     "metadata": {
      "needs_background": "light"
     },
     "output_type": "display_data"
    }
   ],
   "source": [
    "# determine the number of patrons per age range group\n",
    "\n",
    "# create a list of the ranges\n",
    "ranges = list(library_df['Age Range'].unique())\n",
    "ranges.sort()\n",
    "\n",
    "# create a list for the counts of each range\n",
    "range_count = []\n",
    "\n",
    "# use a for loop to loop through the list of ranges and count the number of records per group; print the range and number of patrons\n",
    "for r in ranges:\n",
    "    rc = library_df.loc[library_df['Age Range'] == r]\n",
    "    count = rc['Age Range'].count()\n",
    "    range_count.append(count)\n",
    "    print(f'In the {r} age range there are {count} library patrons.')\n",
    "    \n",
    "\n",
    "# plot the ranges and count of patrons\n",
    "plt.figure(figsize=(20, 9))\n",
    "plt.bar(ranges,range_count, color ='tab:blue')\n",
    "plt.xlabel('Age Range', fontweight ='bold', fontsize = 15)\n",
    "plt.ylabel('Count of Patrons', fontweight ='bold', fontsize = 15)\n",
    "plt.title('Number of Library Patrons per Age Range Group', fontweight = 'bold', fontsize = 25)"
   ]
  },
  {
   "attachments": {},
   "cell_type": "markdown",
   "metadata": {},
   "source": [
    "#### Average Number Checkouts Per Age Range"
   ]
  },
  {
   "cell_type": "code",
   "execution_count": 17,
   "metadata": {},
   "outputs": [
    {
     "data": {
      "text/plain": [
       "Text(0, 0.5, 'Total Checkouts')"
      ]
     },
     "execution_count": 17,
     "metadata": {},
     "output_type": "execute_result"
    },
    {
     "data": {
      "image/png": "[encoded data removed]",
      "text/plain": [
       "<Figure size 1440x648 with 1 Axes>"
      ]
     },
     "metadata": {
      "needs_background": "light"
     },
     "output_type": "display_data"
    }
   ],
   "source": [
    "# visualize the average total checkouts per age range\n",
    "\n",
    "# sort the Age Range column \n",
    "library_df = library_df.sort_values('Age Range')\n",
    "\n",
    "# plot the data\n",
    "plt.figure(figsize=(20, 9))\n",
    "sns.barplot(x=library_df['Age Range'], y=library_df['Total Checkouts'])\n",
    "plt.title(\"Average Total Checkouts by Age Range\", fontweight = 'bold', fontsize = 25)\n",
    "plt.xlabel('Age Range', fontweight ='bold', fontsize = 15)\n",
    "plt.ylabel('Total Checkouts', fontweight ='bold', fontsize = 15)"
   ]
  },
  {
   "attachments": {},
   "cell_type": "markdown",
   "metadata": {},
   "source": [
    "#### Percent of Patrons that Provided an Email Address Per Age Range"
   ]
  },
  {
   "cell_type": "code",
   "execution_count": 18,
   "metadata": {},
   "outputs": [
    {
     "data": {
      "text/plain": [
       "Text(0.5, 0, 'Age Range')"
      ]
     },
     "execution_count": 18,
     "metadata": {},
     "output_type": "execute_result"
    },
    {
     "data": {
      "image/png": "[encoded data removed]",
      "text/plain": [
       "<Figure size 1440x648 with 1 Axes>"
      ]
     },
     "metadata": {
      "needs_background": "light"
     },
     "output_type": "display_data"
    }
   ],
   "source": [
    "# visualize the percent of patrons that provided an email address by Age Range\n",
    "\n",
    "# sort the Age Range column \n",
    "library_df = library_df.sort_values('Age Range')\n",
    "\n",
    "# plot the data\n",
    "plt.figure(figsize=(20, 9))\n",
    "ax = sns.barplot(x=library_df['Age Range'], y=library_df['Provided Email Address'].mul(100))\n",
    "plt.title(\"Percent of Patrons that Provided an Email Address by Age Range\", fontweight = 'bold', fontsize = 25)\n",
    "plt.ylabel('Percent of Patrons', fontweight ='bold', fontsize = 15)\n",
    "plt.xlabel('Age Range', fontweight ='bold', fontsize = 15)\n",
    "\n"
   ]
  },
  {
   "attachments": {},
   "cell_type": "markdown",
   "metadata": {},
   "source": [
    "#### Number of Patrons Per Active Year Per Age Range"
   ]
  },
  {
   "cell_type": "code",
   "execution_count": 19,
   "metadata": {},
   "outputs": [],
   "source": [
    "# create a new dataframe with only the daat needed\n",
    "year_age_df = library_df.drop(columns=['Patron Type Code', 'Patron Type Definition', 'Total Checkouts', 'Total Renewals', 'Home Library Code', 'Home Library Definition', 'Circulation Active Month', 'Notice Preference Code', 'Notice Preference Definition', 'Provided Email Address', 'Year Patron Registered', 'Outside of County'])\n",
    "\n",
    "# drop rows that don't have a year provided\n",
    "year_age_df = year_age_df.drop(year_age_df[year_age_df['Circulation Active Year'] == 'None'].index, inplace=False)\n",
    "\n",
    "# reset the index\n",
    "year_age_df = year_age_df.reset_index(drop=True)\n",
    "\n",
    "# change the Year column type to an integer\n",
    "year_age_df['Circulation Active Year'] = year_age_df['Circulation Active Year'].astype(int)"
   ]
  },
  {
   "cell_type": "code",
   "execution_count": 20,
   "metadata": {},
   "outputs": [
    {
     "data": {
      "text/html": [
       "<div>\n",
       "<style scoped>\n",
       "    .dataframe tbody tr th:only-of-type {\n",
       "        vertical-align: middle;\n",
       "    }\n",
       "\n",
       "    .dataframe tbody tr th {\n",
       "        vertical-align: top;\n",
       "    }\n",
       "\n",
       "    .dataframe thead th {\n",
       "        text-align: right;\n",
       "    }\n",
       "</style>\n",
       "<table border=\"1\" class=\"dataframe\">\n",
       "  <thead>\n",
       "    <tr style=\"text-align: right;\">\n",
       "      <th></th>\n",
       "      <th>Age Range</th>\n",
       "      <th>Circulation Active Year</th>\n",
       "      <th>count</th>\n",
       "    </tr>\n",
       "  </thead>\n",
       "  <tbody>\n",
       "    <tr>\n",
       "      <th>129</th>\n",
       "      <td>0 to 9 years</td>\n",
       "      <td>2003</td>\n",
       "      <td>1</td>\n",
       "    </tr>\n",
       "    <tr>\n",
       "      <th>124</th>\n",
       "      <td>0 to 9 years</td>\n",
       "      <td>2004</td>\n",
       "      <td>2</td>\n",
       "    </tr>\n",
       "    <tr>\n",
       "      <th>126</th>\n",
       "      <td>0 to 9 years</td>\n",
       "      <td>2005</td>\n",
       "      <td>2</td>\n",
       "    </tr>\n",
       "    <tr>\n",
       "      <th>127</th>\n",
       "      <td>0 to 9 years</td>\n",
       "      <td>2006</td>\n",
       "      <td>2</td>\n",
       "    </tr>\n",
       "    <tr>\n",
       "      <th>134</th>\n",
       "      <td>0 to 9 years</td>\n",
       "      <td>2007</td>\n",
       "      <td>1</td>\n",
       "    </tr>\n",
       "  </tbody>\n",
       "</table>\n",
       "</div>"
      ],
      "text/plain": [
       "        Age Range  Circulation Active Year  count\n",
       "129  0 to 9 years                     2003      1\n",
       "124  0 to 9 years                     2004      2\n",
       "126  0 to 9 years                     2005      2\n",
       "127  0 to 9 years                     2006      2\n",
       "134  0 to 9 years                     2007      1"
      ]
     },
     "execution_count": 20,
     "metadata": {},
     "output_type": "execute_result"
    }
   ],
   "source": [
    "# use value_counts to count the number for each unique Age Range/Year pair\n",
    "year_age_count_df = year_age_df.value_counts().reset_index()\n",
    "year_age_count_df = year_age_count_df.rename(columns={0: \"count\"})\n",
    "\n",
    "# sort the dataframe for analysis\n",
    "year_age_count_df = year_age_count_df.sort_values(by = ['Age Range', 'Circulation Active Year'])\n",
    "\n",
    "# review the new dataframe\n",
    "year_age_count_df.head()"
   ]
  },
  {
   "cell_type": "code",
   "execution_count": 21,
   "metadata": {},
   "outputs": [],
   "source": [
    "# drop 2003 because all age ranges are not represented\n",
    "year_age_count_df = year_age_count_df.drop(year_age_count_df[year_age_count_df['Circulation Active Year'] == 2003].index, inplace=False)\n"
   ]
  },
  {
   "cell_type": "code",
   "execution_count": 22,
   "metadata": {},
   "outputs": [
    {
     "name": "stdout",
     "output_type": "stream",
     "text": [
      "10\n"
     ]
    },
    {
     "data": {
      "text/plain": [
       "[[2, 2, 2, 1, 2, 10, 14, 22, 281, 1944, 3713, 6707, 21129],\n",
       " [2, 18, 12, 32, 99, 156, 206, 309, 956, 5684, 9081, 12486, 22785],\n",
       " [11, 17, 26, 34, 51, 94, 153, 194, 729, 3895, 5465, 6253, 7027],\n",
       " [41, 72, 97, 127, 220, 360, 563, 661, 2520, 11264, 15281, 17561, 23814],\n",
       " [62, 111, 131, 162, 277, 377, 579, 619, 1835, 7718, 10898, 12929, 20738],\n",
       " [63, 96, 100, 142, 215, 328, 566, 539, 1319, 5624, 7882, 9743, 18040],\n",
       " [32, 65, 56, 61, 95, 130, 267, 197, 562, 2035, 3014, 3611, 7675],\n",
       " [28, 40, 47, 60, 96, 123, 197, 214, 414, 1769, 2646, 3156, 7795],\n",
       " [34, 53, 65, 52, 113, 165, 298, 246, 635, 2433, 3605, 4725, 12823],\n",
       " [22, 24, 31, 39, 76, 77, 132, 107, 316, 1329, 1871, 2402, 6033]]"
      ]
     },
     "execution_count": 22,
     "metadata": {},
     "output_type": "execute_result"
    }
   ],
   "source": [
    "# create a list of the age range categories\n",
    "ranges = list(year_age_count_df['Age Range'].unique())\n",
    "\n",
    "# create an empty list for the for loop counts\n",
    "list_of_counts_per_age = []\n",
    "\n",
    "# use a for loop to create a list of lists of the count per year based on the Age Range\n",
    "for r in ranges:\n",
    "    df = year_age_count_df.drop(year_age_count_df[year_age_count_df['Age Range'] != r].index, inplace = False)\n",
    "    list_of_counts_per_age.append(list(df['count']))\n",
    "\n",
    "# check that for loop ran correctly\n",
    "print(len(list_of_counts_per_age))\n",
    "list_of_counts_per_age"
   ]
  },
  {
   "cell_type": "code",
   "execution_count": 23,
   "metadata": {},
   "outputs": [],
   "source": [
    "# break down the above created list to have a list of counts for each age range category\n",
    "zero_nine = list_of_counts_per_age[0]\n",
    "ten_nineteen = list_of_counts_per_age[1]\n",
    "twenty_twentyfour = list_of_counts_per_age[2]\n",
    "twentyfive_thirtyfour = list_of_counts_per_age[3]\n",
    "thirtyfive_fourtyfour = list_of_counts_per_age[4]\n",
    "fourtyfive_fiftyfour = list_of_counts_per_age[5]\n",
    "fiftyfive_fiftynine = list_of_counts_per_age[6]\n",
    "sixty_sixtyfour = list_of_counts_per_age[7]\n",
    "sixtyfive_seventyfour = list_of_counts_per_age[8]\n",
    "seventyfive = list_of_counts_per_age[9]"
   ]
  },
  {
   "cell_type": "code",
   "execution_count": 24,
   "metadata": {},
   "outputs": [
    {
     "data": {
      "image/png": "[encoded data removed]",
      "text/plain": [
       "<Figure size 1800x648 with 1 Axes>"
      ]
     },
     "metadata": {
      "needs_background": "light"
     },
     "output_type": "display_data"
    }
   ],
   "source": [
    "# create a bar plot to visualize the data\n",
    "\n",
    "# set width of bar\n",
    "barWidth = 0.08\n",
    "fig = plt.subplots(figsize =(25, 9))\n",
    "\n",
    "# Set position of bar on X axis\n",
    "br1 = np.arange(len(zero_nine))\n",
    "br2 = [x + barWidth for x in br1]\n",
    "br3 = [x + barWidth for x in br2]\n",
    "br4 = [x + barWidth for x in br3]\n",
    "br5 = [x + barWidth for x in br4]\n",
    "br6 = [x + barWidth for x in br5]\n",
    "br7 = [x + barWidth for x in br6]\n",
    "br8 = [x + barWidth for x in br7]\n",
    "br9 = [x + barWidth for x in br8]\n",
    "br10 = [x + barWidth for x in br9]\n",
    "\n",
    "# Make the plot\n",
    "plt.bar(br1, zero_nine, color ='tab:blue', width = barWidth, edgecolor ='grey', label ='0 to 9 years')\n",
    "plt.bar(br2, ten_nineteen, color ='tab:orange', width = barWidth, edgecolor ='grey', label ='10 to 19 years')\n",
    "plt.bar(br3, twenty_twentyfour, color ='tab:green', width = barWidth, edgecolor ='grey', label ='20 to 24 years')\n",
    "plt.bar(br4, twentyfive_thirtyfour, color ='tab:red', width = barWidth, edgecolor ='grey', label = '25 to 34 years')\n",
    "plt.bar(br5, thirtyfive_fourtyfour, color ='tab:purple', width = barWidth, edgecolor ='grey', label ='35 to 44 years')\n",
    "plt.bar(br6, fourtyfive_fiftyfour, color ='tab:brown', width = barWidth, edgecolor ='grey', label ='45 to 54 years')\n",
    "plt.bar(br7, fiftyfive_fiftynine, color ='tab:pink', width = barWidth, edgecolor ='grey', label ='55 to 59 years')\n",
    "plt.bar(br8, sixty_sixtyfour, color ='tab:gray', width = barWidth, edgecolor ='grey', label ='60 to 64 years')\n",
    "plt.bar(br9, sixtyfive_seventyfour, color ='tab:olive', width = barWidth, edgecolor ='grey', label ='65 to 74 years')\n",
    "plt.bar(br10, seventyfive, color ='tab:cyan', width = barWidth, edgecolor ='grey', label ='75 years and over')\n",
    "\n",
    "\n",
    "years = list(year_age_count_df['Circulation Active Year'].unique())\n",
    "# Adding labels\n",
    "plt.title('Count of Patrons Most Recent Active Year Per Age Range', fontweight = 'bold', fontsize = 25)\n",
    "plt.xlabel('Last Active Year', fontweight ='bold', fontsize = 15)\n",
    "plt.ylabel('Count', fontweight ='bold', fontsize = 15)\n",
    "plt.xticks([r + barWidth for r in range(len(zero_nine))],years)\n",
    " \n",
    "plt.legend()\n",
    "plt.show()"
   ]
  },
  {
   "attachments": {},
   "cell_type": "markdown",
   "metadata": {},
   "source": [
    "# Conculsions\n",
    "\n",
    "- The largest number of patrons is in the 25 to 24 age range\n",
    "    - This group has the lowest average number of checkouts\n",
    "    - They also have the highest percentage of patrons that provided an email address\n",
    "- In contrast, the lowest number of patrons is in the 75 years and over age range\n",
    "    - This group has the highest average number of checkouts - which may be due to being long-term patrons of the library\n",
    "    - They also have the lowest percentage of patrons that provided an email address\n",
    "- A majority of the patrons across all age ranges have been active within the last 5 years of data\n",
    "    - The highest numbers are in the most recent year"
   ]
  }
 ],
 "metadata": {
  "kernelspec": {
   "display_name": "base",
   "language": "python",
   "name": "python3"
  },
  "language_info": {
   "codemirror_mode": {
    "name": "ipython",
    "version": 3
   },
   "file_extension": ".py",
   "mimetype": "text/x-python",
   "name": "python",
   "nbconvert_exporter": "python",
   "pygments_lexer": "ipython3",
   "version": "3.9.12"
  },
  "vscode": {
   "interpreter": {
    "hash": "a46e0a6e687af139052e278e4f06912f527b2d55f75d804f2c66ccdc9a6e3f8c"
   }
  }
 },
 "nbformat": 4,
 "nbformat_minor": 4
}
